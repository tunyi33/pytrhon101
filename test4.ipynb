{
 "cells": [
  {
   "cell_type": "code",
   "execution_count": 1,
   "metadata": {},
   "outputs": [
    {
     "name": "stdout",
     "output_type": "stream",
     "text": [
      "HELLO WORLD\n"
     ]
    }
   ],
   "source": [
    "print(\"HELLO WORLD\")"
   ]
  },
  {
   "cell_type": "markdown",
   "metadata": {},
   "source": [
    "Practice block"
   ]
  },
  {
   "cell_type": "code",
   "execution_count": 1,
   "metadata": {},
   "outputs": [
    {
     "name": "stdout",
     "output_type": "stream",
     "text": [
      "100\n"
     ]
    }
   ],
   "source": [
    "a = 100\n",
    "print(a)"
   ]
  },
  {
   "cell_type": "code",
   "execution_count": 2,
   "metadata": {},
   "outputs": [
    {
     "name": "stdout",
     "output_type": "stream",
     "text": [
      "123.5\n",
      "<class 'float'>\n"
     ]
    }
   ],
   "source": [
    "b = 123.50\n",
    "print(b)\n",
    "print(type(b))"
   ]
  },
  {
   "cell_type": "code",
   "execution_count": 3,
   "metadata": {},
   "outputs": [
    {
     "name": "stdout",
     "output_type": "stream",
     "text": [
      "10000\n",
      "<class 'int'>\n"
     ]
    }
   ],
   "source": [
    "#interger - whole/real numbers without decimals\n",
    "a = 10000\n",
    "print(a)\n",
    "print(type(a))"
   ]
  },
  {
   "cell_type": "code",
   "execution_count": 4,
   "metadata": {},
   "outputs": [
    {
     "name": "stdout",
     "output_type": "stream",
     "text": [
      "123.5\n",
      "<class 'float'>\n"
     ]
    }
   ],
   "source": [
    "#float- numbers with decimals\n",
    "b=123.5\n",
    "print(b)\n",
    "print(type(b))"
   ]
  },
  {
   "cell_type": "code",
   "execution_count": 5,
   "metadata": {},
   "outputs": [
    {
     "name": "stdout",
     "output_type": "stream",
     "text": [
      "d\n",
      "<class 'str'>\n",
      "Tati\n",
      "Tati is a devops engineer\n"
     ]
    }
   ],
   "source": [
    "#string- a single character, set of characters or sentence / double quote, tripple quote, single quote\n",
    "c=\"d\"\n",
    "c1=\"Tati\"\n",
    "c2=\"Tati is a devops engineer\"\n",
    "print(c)\n",
    "print(type(c))\n",
    "print(c1)\n",
    "print(c2)"
   ]
  },
  {
   "cell_type": "code",
   "execution_count": 6,
   "metadata": {},
   "outputs": [
    {
     "name": "stdout",
     "output_type": "stream",
     "text": [
      "True\n",
      "<class 'bool'>\n"
     ]
    }
   ],
   "source": [
    "#boolean- True or False\n",
    "e = True\n",
    "print(e)\n",
    "print(type(e))"
   ]
  },
  {
   "cell_type": "code",
   "execution_count": 7,
   "metadata": {},
   "outputs": [
    {
     "name": "stdout",
     "output_type": "stream",
     "text": [
      "None\n",
      "<class 'NoneType'>\n"
     ]
    }
   ],
   "source": [
    "#none- \n",
    "#f - NO VALUE FOR VARIABLE\n",
    "f1=None\n",
    "#print(f)\n",
    "print(f1)\n",
    "print(type(f1))"
   ]
  },
  {
   "cell_type": "code",
   "execution_count": 12,
   "metadata": {},
   "outputs": [
    {
     "name": "stdout",
     "output_type": "stream",
     "text": [
      "this is Tati He is a devops engineer\n"
     ]
    }
   ],
   "source": [
    "# single character string should end on thesame line\n",
    "s1 = \"this is Tati \\\n",
    "He is a devops engineer\"\n",
    "print(s1)"
   ]
  },
  {
   "cell_type": "code",
   "execution_count": 13,
   "metadata": {},
   "outputs": [
    {
     "name": "stdout",
     "output_type": "stream",
     "text": [
      "learning python\n",
      "learning python now\n"
     ]
    }
   ],
   "source": [
    "#case sensitive\n",
    "a = \"learning python\"\n",
    "A = \"learning python now\"\n",
    "print(a)\n",
    "print(A)"
   ]
  },
  {
   "cell_type": "code",
   "execution_count": 16,
   "metadata": {},
   "outputs": [
    {
     "name": "stdout",
     "output_type": "stream",
     "text": [
      "None\n"
     ]
    }
   ],
   "source": [
    "#override\n",
    "from pickle import FALSE\n",
    "\n",
    "\n",
    "a = \"learning python\"\n",
    "a = \"learning python today\"\n",
    "a = 100\n",
    "a = False\n",
    "a = None\n",
    "print(a)"
   ]
  },
  {
   "cell_type": "code",
   "execution_count": 19,
   "metadata": {},
   "outputs": [
    {
     "name": "stdout",
     "output_type": "stream",
     "text": [
      "value of A is  1\n",
      "value of B is  2\n",
      "end of B\n",
      "end of a\n",
      "end of program\n"
     ]
    }
   ],
   "source": [
    "# block of code using indentation / if a=12, it will print end of program as it is wrong / \n",
    "# all block after a==1 will not print  / same for b==20 the block from if b==20 will not print\n",
    "a = 1\n",
    "b = 2\n",
    "\n",
    "if a==1:\n",
    "    print(\"value of A is \",a)\n",
    "    if b==2:\n",
    "        print(\"value of B is \",b)\n",
    "        print(\"end of B\")\n",
    "    print(\"end of a\")\n",
    "print(\"end of program\")\n"
   ]
  },
  {
   "cell_type": "code",
   "execution_count": 20,
   "metadata": {},
   "outputs": [
    {
     "name": "stdout",
     "output_type": "stream",
     "text": [
      "items_count:  100 type of items_count:  <class 'int'> memory loction:  2463328832848\n",
      "customer_name:  vamsi type of customer_name:  <class 'str'> memory loction:  2463444247536\n",
      "is_bill_paid:  False type of is_bill_paid:  <class 'bool'> memory loction:  140718272830344\n",
      "unit_price:  15.05 type of price:  <class 'float'> memory loction:  2463410852208\n",
      "toal bill to be paid:  1505.0\n",
      "items_count: 100\n"
     ]
    }
   ],
   "source": [
    "# to exlpain the variables concept\n",
    "\n",
    "items_count = 100\n",
    "customer_name = 'vamsi'\n",
    "is_bill_paid = False\n",
    "unit_price = 15.05\n",
    "\n",
    "\n",
    "print('items_count: ', items_count, 'type of items_count: ',\n",
    "      type(items_count), 'memory loction: ', id(items_count))\n",
    "print('customer_name: ', customer_name, 'type of customer_name: ',\n",
    "      type(customer_name), 'memory loction: ', id(customer_name))\n",
    "print('is_bill_paid: ', is_bill_paid, 'type of is_bill_paid: ',\n",
    "      type(is_bill_paid), 'memory loction: ', id(is_bill_paid))\n",
    "print('unit_price: ', unit_price, 'type of price: ', type(\n",
    "    unit_price), 'memory loction: ', id(unit_price))\n",
    "\n",
    "print('toal bill to be paid: ', items_count * unit_price)\n",
    "\n",
    "\n",
    "print(\"items_count:\", items_count)"
   ]
  },
  {
   "cell_type": "code",
   "execution_count": 21,
   "metadata": {},
   "outputs": [
    {
     "name": "stdout",
     "output_type": "stream",
     "text": [
      "hello people Tati says hi\n"
     ]
    }
   ],
   "source": [
    "x = \"hello people\"\n",
    "print(x,\"Tati says hi\")"
   ]
  },
  {
   "cell_type": "code",
   "execution_count": 22,
   "metadata": {},
   "outputs": [
    {
     "name": "stdout",
     "output_type": "stream",
     "text": [
      "hello people good morning\n"
     ]
    }
   ],
   "source": [
    "x = \"hello people\"\n",
    "y = \"good morning\"\n",
    "print(x,y)"
   ]
  },
  {
   "cell_type": "code",
   "execution_count": 24,
   "metadata": {},
   "outputs": [
    {
     "name": "stdout",
     "output_type": "stream",
     "text": [
      "items_count:  100\n"
     ]
    }
   ],
   "source": [
    "items_count = 100\n",
    "print('items_count: ', items_count)\n"
   ]
  },
  {
   "cell_type": "code",
   "execution_count": 25,
   "metadata": {},
   "outputs": [
    {
     "name": "stdout",
     "output_type": "stream",
     "text": [
      "hellohello\n"
     ]
    }
   ],
   "source": [
    "x=\"hello\"\n",
    "y=x\n",
    "print(x+y)"
   ]
  },
  {
   "cell_type": "code",
   "execution_count": 26,
   "metadata": {},
   "outputs": [
    {
     "name": "stdout",
     "output_type": "stream",
     "text": [
      "hello\n",
      "world\n"
     ]
    }
   ],
   "source": [
    "#variable name rules\n",
    "#var should start with xter/letter or underscore\n",
    "\n",
    "tati=\"hello\"\n",
    "_tati=\"world\"\n",
    "print(tati)\n",
    "print(_tati)"
   ]
  },
  {
   "cell_type": "code",
   "execution_count": 27,
   "metadata": {},
   "outputs": [
    {
     "ename": "SyntaxError",
     "evalue": "invalid decimal literal (1957404360.py, line 2)",
     "output_type": "error",
     "traceback": [
      "\u001b[1;36m  Cell \u001b[1;32mIn [27], line 2\u001b[1;36m\u001b[0m\n\u001b[1;33m    5a=\"hello\"\u001b[0m\n\u001b[1;37m    ^\u001b[0m\n\u001b[1;31mSyntaxError\u001b[0m\u001b[1;31m:\u001b[0m invalid decimal literal\n"
     ]
    }
   ],
   "source": [
    "#var name cannot start with a number\n",
    "5a=\"hello\"\n",
    "print(5a)"
   ]
  },
  {
   "cell_type": "code",
   "execution_count": 28,
   "metadata": {},
   "outputs": [],
   "source": [
    "#var name  are case sensitive\n",
    "#use quotation marks\n",
    "#comments can be used #\n",
    "\n"
   ]
  },
  {
   "cell_type": "code",
   "execution_count": 43,
   "metadata": {},
   "outputs": [
    {
     "name": "stdout",
     "output_type": "stream",
     "text": [
      "8\n"
     ]
    }
   ],
   "source": [
    "#addition operator \n",
    "a=3\n",
    "b=5\n",
    "add=a+b\n",
    "print(add)"
   ]
  },
  {
   "cell_type": "code",
   "execution_count": 44,
   "metadata": {},
   "outputs": [
    {
     "name": "stdout",
     "output_type": "stream",
     "text": [
      "3\n"
     ]
    }
   ],
   "source": [
    "#subtraction\n",
    "a=4\n",
    "b=1\n",
    "sub=a-b\n",
    "print(sub)"
   ]
  },
  {
   "cell_type": "code",
   "execution_count": 45,
   "metadata": {},
   "outputs": [
    {
     "name": "stdout",
     "output_type": "stream",
     "text": [
      "27\n"
     ]
    }
   ],
   "source": [
    "#multiplication\n",
    "a=9\n",
    "b=3\n",
    "mult=a*b\n",
    "print(mult)"
   ]
  },
  {
   "cell_type": "code",
   "execution_count": 46,
   "metadata": {},
   "outputs": [
    {
     "name": "stdout",
     "output_type": "stream",
     "text": [
      "3.0\n"
     ]
    }
   ],
   "source": [
    "#division\n",
    "a=9\n",
    "b=3\n",
    "div=a/b\n",
    "print(div)"
   ]
  },
  {
   "cell_type": "code",
   "execution_count": 36,
   "metadata": {},
   "outputs": [
    {
     "name": "stdout",
     "output_type": "stream",
     "text": [
      "100000\n"
     ]
    }
   ],
   "source": [
    "#expression\n",
    "expr=a**b\n",
    "a=10\n",
    "b=5\n",
    "print(expr)"
   ]
  },
  {
   "cell_type": "code",
   "execution_count": 37,
   "metadata": {},
   "outputs": [
    {
     "name": "stdout",
     "output_type": "stream",
     "text": [
      "2\n"
     ]
    }
   ],
   "source": [
    "#floor division\n",
    "fdiv=a//b\n",
    "print(fdiv)"
   ]
  },
  {
   "cell_type": "code",
   "execution_count": 41,
   "metadata": {},
   "outputs": [
    {
     "name": "stdout",
     "output_type": "stream",
     "text": [
      "3\n"
     ]
    }
   ],
   "source": [
    "#modular (remainder)\n",
    "modu = a % b\n",
    "a=8\n",
    "b=5\n",
    "print(modu)"
   ]
  },
  {
   "cell_type": "markdown",
   "metadata": {},
   "source": [
    " ralational / comparison operators"
   ]
  },
  {
   "cell_type": "code",
   "execution_count": 42,
   "metadata": {},
   "outputs": [
    {
     "name": "stdout",
     "output_type": "stream",
     "text": [
      "True\n"
     ]
    }
   ],
   "source": [
    "a = 5\n",
    "b = 2\n"
   ]
  },
  {
   "cell_type": "code",
   "execution_count": 47,
   "metadata": {},
   "outputs": [
    {
     "name": "stdout",
     "output_type": "stream",
     "text": [
      "False\n"
     ]
    }
   ],
   "source": [
    "#less than operators\n",
    "less = a<b\n",
    "print(less)"
   ]
  },
  {
   "cell_type": "code",
   "execution_count": 48,
   "metadata": {},
   "outputs": [
    {
     "name": "stdout",
     "output_type": "stream",
     "text": [
      "True\n"
     ]
    }
   ],
   "source": [
    "#greater than operator\n",
    "great = a>b\n",
    "print(great)"
   ]
  },
  {
   "cell_type": "code",
   "execution_count": 49,
   "metadata": {},
   "outputs": [
    {
     "data": {
      "text/plain": [
       "False"
      ]
     },
     "execution_count": 49,
     "metadata": {},
     "output_type": "execute_result"
    }
   ],
   "source": [
    "50 > 100"
   ]
  },
  {
   "cell_type": "code",
   "execution_count": 50,
   "metadata": {},
   "outputs": [
    {
     "name": "stdout",
     "output_type": "stream",
     "text": [
      "False\n"
     ]
    }
   ],
   "source": [
    "#less than oe equel to a=5, b=2\n",
    "lessequ = a <= b\n",
    "print(lessequ)"
   ]
  },
  {
   "cell_type": "code",
   "execution_count": 52,
   "metadata": {},
   "outputs": [
    {
     "name": "stdout",
     "output_type": "stream",
     "text": [
      "True\n"
     ]
    }
   ],
   "source": [
    "#greater than and equel to\n",
    "greatereq = a >= b\n",
    "print(greatereq)"
   ]
  },
  {
   "cell_type": "code",
   "execution_count": 54,
   "metadata": {},
   "outputs": [
    {
     "name": "stdout",
     "output_type": "stream",
     "text": [
      "False\n"
     ]
    }
   ],
   "source": [
    "\n",
    "#equal to operator\n",
    "equal= a == b\n",
    "print(equal)"
   ]
  },
  {
   "cell_type": "code",
   "execution_count": 55,
   "metadata": {},
   "outputs": [
    {
     "name": "stdout",
     "output_type": "stream",
     "text": [
      "True\n"
     ]
    }
   ],
   "source": [
    "# not equal operator  a=5, b=2\n",
    "not_equal = a != b\n",
    "print(not_equal)"
   ]
  },
  {
   "cell_type": "markdown",
   "metadata": {},
   "source": [
    "Assignment operator"
   ]
  },
  {
   "cell_type": "code",
   "execution_count": 56,
   "metadata": {},
   "outputs": [
    {
     "name": "stdout",
     "output_type": "stream",
     "text": [
      "15\n"
     ]
    }
   ],
   "source": [
    "#addition assignment operator\n",
    "a=10\n",
    "b=5\n",
    "#a=a+b\n",
    "a += b\n",
    "print(a)"
   ]
  },
  {
   "cell_type": "code",
   "execution_count": 58,
   "metadata": {},
   "outputs": [
    {
     "name": "stdout",
     "output_type": "stream",
     "text": [
      "5\n"
     ]
    }
   ],
   "source": [
    "#subtraction assignment operator\n",
    "#a = a - b\n",
    "a -= b\n",
    "print(a)\n"
   ]
  },
  {
   "cell_type": "code",
   "execution_count": null,
   "metadata": {},
   "outputs": [],
   "source": []
  }
 ],
 "metadata": {
  "kernelspec": {
   "display_name": "Python 3.10.7 64-bit",
   "language": "python",
   "name": "python3"
  },
  "language_info": {
   "codemirror_mode": {
    "name": "ipython",
    "version": 3
   },
   "file_extension": ".py",
   "mimetype": "text/x-python",
   "name": "python",
   "nbconvert_exporter": "python",
   "pygments_lexer": "ipython3",
   "version": "3.10.7"
  },
  "orig_nbformat": 4,
  "vscode": {
   "interpreter": {
    "hash": "1aaf6173557e702772a5eefc4bf20d9d2d16d1ca1360cc8c350e20e20ce348a0"
   }
  }
 },
 "nbformat": 4,
 "nbformat_minor": 2
}
